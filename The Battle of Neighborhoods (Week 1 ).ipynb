{
 "cells": [
  {
   "cell_type": "markdown",
   "metadata": {
    "collapsed": true
   },
   "source": [
    "# Capstone Project - The Battle of Neighborhoods"
   ]
  },
  {
   "cell_type": "markdown",
   "metadata": {},
   "source": [
    "## Introduction\n",
    "\n",
    "Considered the third largest metropolis in the Americas, behind Sao Paulo in Brazil and Mexico City, New York City, commonly called New York (NYC) or simply New York (NY), has a major impact on the US economic landscape, being considered a financial capital of the country. Considering its great importance for commerce, finance, media, fashion, art, research, technology and education from around the world, a city has the honor of hosting the United Nations (UN), for example other things are considered as the capital of the world. With an estimated 2018 population of 8,398,748 distributed over an area of about 784 km2 (302.6 square miles), New York is also the most densely populated major city in the United States.\n",
    "\n",
    "New York City is home to more than 3.2 million residents born outside the United States, the largest foreign-born population of any city in the world. As many as 800 languages are spoken in New York, making it the most linguistically diverse city in the world. Who can be observed into your five major Boroughs – Brooklyn, Queens, Manhattan, The Bronx, and Staten Island – were consolidated into a single city in 1898. As of 2019, the New York metropolitan area is estimated to produce a gross metropolitan product (GMP) of US$1.9 trillion.\n",
    "\n",
    "Due to all this cultural diversity, making these foreigners, although far from home, feel at home requires a significant trade effort to meet the desires of these various peoples, so it is appropriate to investigate possible establishments to cater for food tastes, fashion, leisure, among others ...\n",
    "\n",
    "Focusing on food and the great gastronomic diversity of New York City, although cultural markets are very important, because they are importers of typical foods from various countries, to make the work more objective we will take the food segment out of at home, more precisely bars, cafeterias and restaurants.\n",
    "\n",
    "For such research we will look at a group that contributed greatly to the founding of New York City and that has very restrictive food particularities, which for this work represents not only to verify the presence of these people in New York City, but also to observe how these are met in their needs by the city they helped to found.\n",
    "\n",
    "We are talking about the Jewish people that comprise approximately 13% of the population of New York, being considered the largest Jewish community outside Israel worldwide, distributed in the five main districts of the city. There are about 1.5 million Jews in metropolitan New York, which started with only 23 Jews, when Jacob Barsimon landed in August 1954 with a passport from the Dutch West India Company and a month later, a group of Jews to come to New York, then the colony New Amsterdam, the refugees from Recife, Brazil.\n",
    "\n",
    "Jewish cuisine refers to the cooking traditions of the Jewish people worldwide. It has evolved over many centuries, shaped by Jewish dietary laws (kashrut), for the Jewish this is not about what do you like or not to eat, this is about the spiritual principles.\n",
    "\n",
    "The laws of keeping kosher (kashrut) have influenced Jewish cooking by prescribing what foods are permitted and how food must be prepared. The word kosher is usually translated as \"proper\".\n",
    "\n",
    "Observant Jews will eat only meat or poultry that is certified kosher. The meat must have been slaughtered by a shochet (ritual slaughterer) in accordance with Jewish law and is entirely drained of blood. Before it is cooked, it is soaked in water for half an hour, then placed on a perforated board, sprinkled with coarse salt (which draws out the blood) and left to sit for one hour. At the end of this time, the salt is washed off and the meat is ready for cooking. Today, kosher meats purchased from a butcher or supermarket are usually already koshered as described above and no additional soaking or salting is required.\n",
    "\n",
    "It is because of this care that the Jewish people take into consideration for food that this work becomes relevant, not only for the qualification of restaurants, but also for the visualization of new business opportunities in this segment in New York City.\n",
    "\n",
    "Therefore, as part of this project, we will list and preview all major parts of New York City that have great Kosher food.\n",
    "\n",
    "The content presented in this introduction is not scientific in nature and was all inspired and with some entirely copied excerpts from wikipedia.org.\n",
    "\n",
    "- https://en.wikipedia.org/wiki/New_York_City\n",
    "\n",
    "- https://en.wikipedia.org/wiki/Jews_in_New_York_City\n",
    "\n",
    "- https://en.wikipedia.org/wiki/Jewish_cuisine"
   ]
  },
  {
   "cell_type": "markdown",
   "metadata": {},
   "source": [
    "## Data\n",
    "\n",
    "For this project we need the following data:\n",
    "\n",
    "- New York City data that contains list Boroughs, Neighborhoods along with their latitude and longitude.\n",
    "\n",
    "    - Data source: https://cocl.us/new_york_dataset\n",
    "\n",
    "    - Description: This data set contains the required information, and we will use this data    set to explore various neighborhoods of new york city.\n",
    "\n",
    "- Kosher food in each neighborhood of new york city.\n",
    "\n",
    "    - Data source: FourSquare API\n",
    "\n",
    "    - Description: By using this API we will get all the venues in each neighborhood. We can filter these venues to get only Jewish resturants.\n",
    "\n",
    "- GeoSpace data\n",
    "\n",
    "    - Data source: https://data.cityofnewyork.us/City-Government/Borough-Boundaries/tqmj-j8zm\n",
    "\n",
    "    - Description: By using this geo space data we will get the New york Borough boundaries that will help us visualize choropleth map."
   ]
  },
  {
   "cell_type": "markdown",
   "metadata": {},
   "source": [
    "## Approach\n",
    "\n",
    "- Collect the new york city data from https://cocl.us/new_york_dataset\n",
    "\n",
    "- Using FourSquare API we will find all venues for each neighborhood.\n",
    "\n",
    "- Filter out all venues that are Kosher food.\n",
    "\n",
    "- Visualize the areas that can be explored for a future potential place to start a new business eat kosher food."
   ]
  },
  {
   "cell_type": "markdown",
   "metadata": {},
   "source": [
    "## Questions that can be asked using the above mentioned datasets\n",
    "\n",
    "- What is best location in New York City for Jewish Cuisine?\n",
    "\n",
    "- Which areas have potential Jewish Resturant?\n",
    "\n",
    "- Which all areas lack Jewish Resturants?\n",
    "\n",
    "- Which is the best place to stay if I prefer Jewish Cuisine?"
   ]
  },
  {
   "cell_type": "markdown",
   "metadata": {},
   "source": [
    "## Methodology\n",
    "\n",
    "We will import the required libraries for python.\n",
    "\n",
    "- Pandas and Numpy for handling data.\n",
    "- Request module for using FourSquare API.\n",
    "- Geopy to get co-ordinates of City of New York.\n",
    "- Folium to visualize the results on a map"
   ]
  },
  {
   "cell_type": "code",
   "execution_count": null,
   "metadata": {},
   "outputs": [],
   "source": []
  }
 ],
 "metadata": {
  "kernelspec": {
   "display_name": "Python 3.6",
   "language": "python",
   "name": "python3"
  },
  "language_info": {
   "codemirror_mode": {
    "name": "ipython",
    "version": 3
   },
   "file_extension": ".py",
   "mimetype": "text/x-python",
   "name": "python",
   "nbconvert_exporter": "python",
   "pygments_lexer": "ipython3",
   "version": "3.6.8"
  }
 },
 "nbformat": 4,
 "nbformat_minor": 1
}
